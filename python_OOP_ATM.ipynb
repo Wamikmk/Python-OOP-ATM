{
  "cells": [
    {
      "cell_type": "code",
      "execution_count": 13,
      "metadata": {
        "id": "wQmHW2yifmnJ"
      },
      "outputs": [],
      "source": [
        "class Atm:\n",
        "  def __init__(self):\n",
        "    self.pin = \"\"\n",
        "    self.balance = 0\n",
        "    #print(\"I got executed\")\n",
        "    self.menu() #execute menu function while creating an object\n",
        "\n",
        "  def menu(self):\n",
        "    user_input = input(\"\"\"\n",
        "      Hi how can i help you?\n",
        "      1. Press 1 to create pin.\n",
        "      2. Press 2 to update pin.\n",
        "      3. Press 3 to withdraw\n",
        "      4. Press 4 to check balance\n",
        "      5. Deposit Cash\n",
        "      6. Anything else to exit\n",
        "    \"\"\")\n",
        "\n",
        "    if user_input == '1':\n",
        "      self.create_pin()\n",
        "    elif user_input == '2':\n",
        "      self.update_pin()\n",
        "    elif user_input == '3':\n",
        "      self.withdraw()\n",
        "    elif user_input == '4':\n",
        "      self.check_balance()\n",
        "    elif user_input == '5':\n",
        "      self.deposit_cash()\n",
        "\n",
        "    else:\n",
        "      pass #exit\n",
        "\n",
        "  def create_pin(self):\n",
        "    user_pin = input(\"Enter your PIN here: \")\n",
        "    self.pin = user_pin\n",
        "    user_balance = int(input(\"Enter the balance amount: \"))\n",
        "    self.balance = user_balance\n",
        "\n",
        "    print(\"Pin created Successfully\")\n",
        "\n",
        "  def update_pin(self):\n",
        "    user_pin = input(\"Enter your pin: \")\n",
        "    if user_pin == self.pin:\n",
        "      new_pin = input(\"Enter your new pin: \")\n",
        "      self.pin = new_pin\n",
        "      print(\"Pin updated Successfully\")\n",
        "    else:\n",
        "      print(\"Sorry, The user pin you entered does not match.\")\n",
        "      self.menu()\n",
        "\n",
        "  def withdraw(self):\n",
        "    user_pin = input(\"Enter your pin: \")\n",
        "    if user_pin == self.pin:\n",
        "      user_amount = int(input(\"Enter your amount: \"))\n",
        "      if user_amount <= self.balance:\n",
        "        self.balance = self.balance - user_amount\n",
        "        print(\"Amount Withdrawn Successfully!!\")\n",
        "      else:\n",
        "        print(\"You have insuffecient amount!!\")\n",
        "        self.menu()\n",
        "    else:\n",
        "      print(\"You have Entered an incorrect pin!!\")\n",
        "\n",
        "  def check_balance(self):\n",
        "      user_pin = input(\"Enter Your Pin: \")\n",
        "      if user_pin == self.pin:\n",
        "        print(f\"Your current balance is: {self.balance}\")\n",
        "        print(\"Press 1 to go back to the menu\")\n",
        "\n",
        "        answer = int(input())\n",
        "        if answer == 1:\n",
        "          self.menu()\n",
        "\n",
        "  def deposit_cash(self):\n",
        "    user_pin = input('Enter you pin: ')\n",
        "    if user_pin == self.pin:\n",
        "      amount = int(input(\"Enter your amount: \"))\n",
        "      self.balance = self.balance + amount\n",
        "      print(\"Amount deposited sucessfully!!\")\n",
        "\n",
        "      self.menu()\n",
        "    else:\n",
        "      print(\"Your pin is incorrect!!\")\n"
      ]
    },
    {
      "cell_type": "code",
      "execution_count": 14,
      "metadata": {
        "colab": {
          "base_uri": "https://localhost:8080/"
        },
        "id": "Fo4OVZTHf1Pd",
        "outputId": "4b567b80-6a1d-42f6-afef-a7e0c178b65e"
      },
      "outputs": [
        {
          "output_type": "stream",
          "name": "stdout",
          "text": [
            "\n",
            "      Hi how can i help you?\n",
            "      1. Press 1 to create pin.\n",
            "      2. Press 2 to update pin.\n",
            "      3. Press 3 to withdraw\n",
            "      4. Press 4 to check balance\n",
            "      5. Deposit Cash\n",
            "      6. Anything else to exit\n",
            "    1\n",
            "Enter your PIN here: wamikmk\n",
            "Enter the balance amount: 15000\n",
            "Pin created Successfully\n"
          ]
        }
      ],
      "source": [
        "obj = Atm()"
      ]
    },
    {
      "cell_type": "code",
      "source": [
        "obj.menu()\n"
      ],
      "metadata": {
        "colab": {
          "base_uri": "https://localhost:8080/"
        },
        "id": "ytYlHJtVj41a",
        "outputId": "8fcef0ca-5c06-4491-8fa8-cadeb01bec66"
      },
      "execution_count": 15,
      "outputs": [
        {
          "name": "stdout",
          "output_type": "stream",
          "text": [
            "\n",
            "      Hi how can i help you?\n",
            "      1. Press 1 to create pin.\n",
            "      2. Press 2 to update pin.\n",
            "      3. Press 3 to withdraw\n",
            "      4. Press 4 to check balance\n",
            "      5. Deposit Cash\n",
            "      6. Anything else to exit\n",
            "    4\n",
            "Enter Your Pin: wamikmk\n",
            "Your current balance is: 15000\n",
            "Press 1 to go back to the menu\n",
            "3\n"
          ]
        }
      ]
    },
    {
      "cell_type": "code",
      "source": [
        "obj.menu()"
      ],
      "metadata": {
        "colab": {
          "base_uri": "https://localhost:8080/"
        },
        "id": "0Z-XWdoikT-K",
        "outputId": "dde6933e-3e93-4e42-88aa-d0f7965af3ed"
      },
      "execution_count": 16,
      "outputs": [
        {
          "output_type": "stream",
          "name": "stdout",
          "text": [
            "\n",
            "      Hi how can i help you?\n",
            "      1. Press 1 to create pin.\n",
            "      2. Press 2 to update pin.\n",
            "      3. Press 3 to withdraw\n",
            "      4. Press 4 to check balance\n",
            "      5. Deposit Cash\n",
            "      6. Anything else to exit\n",
            "    3\n",
            "Enter your pin: wamikmk\n",
            "Enter your amount: 5500\n",
            "Amount Withdrawn Successfully!!\n"
          ]
        }
      ]
    },
    {
      "cell_type": "code",
      "source": [],
      "metadata": {
        "id": "cZWxZQwakhuO"
      },
      "execution_count": null,
      "outputs": []
    },
    {
      "cell_type": "code",
      "source": [
        "obj.menu()"
      ],
      "metadata": {
        "colab": {
          "base_uri": "https://localhost:8080/"
        },
        "id": "5WplcX1Uhzcz",
        "outputId": "e3632072-8c07-41c7-edbd-3e5fb6ad9280"
      },
      "execution_count": null,
      "outputs": [
        {
          "name": "stdout",
          "output_type": "stream",
          "text": [
            "\n",
            "      Hi how can i help you?\n",
            "      1. Press 1 to create pin.\n",
            "      2. Press 2 to update pin.\n",
            "      3. Press 3 to withdraw\n",
            "      4. Press 4 to check balance\n",
            "      5. Deposit Cash\n",
            "      6. Anything else to exit\n",
            "    4\n",
            "Enter Your Pin: wamikmk\n",
            "Your current balance is: 9500\n",
            "Press 1 to go back to the menu\n",
            "1\n",
            "\n",
            "      Hi how can i help you?\n",
            "      1. Press 1 to create pin.\n",
            "      2. Press 2 to update pin.\n",
            "      3. Press 3 to withdraw\n",
            "      4. Press 4 to check balance\n",
            "      5. Deposit Cash\n",
            "      6. Anything else to exit\n",
            "    5\n",
            "Enter you pin: wamikmk\n",
            "Enter your amount: 7500\n",
            "Amount deposited sucessfully!!\n",
            "\n",
            "      Hi how can i help you?\n",
            "      1. Press 1 to create pin.\n",
            "      2. Press 2 to update pin.\n",
            "      3. Press 3 to withdraw\n",
            "      4. Press 4 to check balance\n",
            "      5. Deposit Cash\n",
            "      6. Anything else to exit\n",
            "    4\n",
            "Enter Your Pin: wamikmk\n",
            "Your current balance is: 17000\n",
            "Press 1 to go back to the menu\n",
            "1\n"
          ]
        }
      ]
    },
    {
      "cell_type": "code",
      "execution_count": null,
      "metadata": {
        "id": "6mt6kKk_3cNV"
      },
      "outputs": [],
      "source": []
    }
  ],
  "metadata": {
    "colab": {
      "provenance": []
    },
    "kernelspec": {
      "display_name": "Python 3",
      "name": "python3"
    },
    "language_info": {
      "name": "python"
    }
  },
  "nbformat": 4,
  "nbformat_minor": 0
}